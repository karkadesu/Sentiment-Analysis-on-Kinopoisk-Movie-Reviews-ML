{
 "cells": [
  {
   "cell_type": "code",
   "execution_count": 1,
   "id": "01a45c26",
   "metadata": {},
   "outputs": [
    {
     "name": "stderr",
     "output_type": "stream",
     "text": [
      "[nltk_data] Downloading package stopwords to\n",
      "[nltk_data]     C:\\Users\\timber\\AppData\\Roaming\\nltk_data...\n",
      "[nltk_data]   Package stopwords is already up-to-date!\n",
      "[nltk_data] Downloading package punkt to\n",
      "[nltk_data]     C:\\Users\\timber\\AppData\\Roaming\\nltk_data...\n",
      "[nltk_data]   Package punkt is already up-to-date!\n"
     ]
    }
   ],
   "source": [
    "#working with dataset\n",
    "import pyarrow as pa\n",
    "import pyarrow.parquet as pq\n",
    "import re\n",
    "import string\n",
    "import pandas as pd\n",
    "import numpy as np\n",
    "import re #regular expression\n",
    "#preprocessing\n",
    "import nltk\n",
    "from nltk.corpus import stopwords\n",
    "from nltk.tokenize import word_tokenize\n",
    "from nltk.stem import SnowballStemmer\n",
    "nltk.download('stopwords')\n",
    "nltk.download('punkt')\n",
    "#training the model\n",
    "from sklearn.model_selection import train_test_split\n",
    "from sklearn.pipeline import Pipeline\n",
    "from sklearn.linear_model import LogisticRegression\n",
    "from sklearn.feature_extraction.text import CountVectorizer\n",
    "from sklearn.feature_extraction.text import TfidfVectorizer\n",
    "from sklearn.model_selection import GridSearchCV"
   ]
  },
  {
   "cell_type": "code",
   "execution_count": 2,
   "id": "0f680432",
   "metadata": {},
   "outputs": [],
   "source": [
    "#load dataset\n",
    "df = pq.read_table('kinopoisk-train.parquet')\n",
    "df = pa.Table.to_pandas(df)"
   ]
  },
  {
   "cell_type": "code",
   "execution_count": 3,
   "id": "dc5e532b",
   "metadata": {},
   "outputs": [],
   "source": [
    "#encode categorical values\n",
    "df.grade3.replace(\"Good\", 1, inplace=True) \n",
    "df.grade3.replace(\"Neutral\", 2, inplace=True) \n",
    "df.grade3.replace(\"Bad\", 3, inplace=True) "
   ]
  },
  {
   "cell_type": "code",
   "execution_count": 4,
   "id": "5d2aff32",
   "metadata": {},
   "outputs": [],
   "source": [
    "train_df, test_df = train_test_split(df, test_size=3500) # data split train / test"
   ]
  },
  {
   "cell_type": "code",
   "execution_count": 5,
   "id": "4ccfdeed",
   "metadata": {},
   "outputs": [],
   "source": [
    "#data preprocessing\n",
    "russian_stop_words = stopwords.words(\"russian\")\n",
    "snowball = SnowballStemmer(language=\"russian\")\n",
    "def tokenize_sentence(text):\n",
    "    text = text.replace(r'\\n', ' ')\n",
    "    pattern = \"[^A-Za-zА-Яа-яЁё0-9]\"\n",
    "    text = re.sub(pattern,\" \",text) \n",
    "    text = text.lower()\n",
    "    tokens = word_tokenize(text, language=\"russian\")\n",
    "    tokens = [i for i in tokens if i not in string.punctuation]\n",
    "    tokens = [i for i in tokens if i not in russian_stop_words]\n",
    "    tokens = [snowball.stem(i) for i in tokens]\n",
    "    return tokens"
   ]
  },
  {
   "cell_type": "code",
   "execution_count": 6,
   "id": "9f98b125",
   "metadata": {},
   "outputs": [],
   "source": [
    "#train the logistic regression algorithm    \n",
    "model_pipeline = Pipeline([\n",
    "    (\"vectorizer\", TfidfVectorizer(tokenizer = tokenize_sentence, lowercase=False)),\n",
    "    (\"model\", LogisticRegression(random_state=0))])"
   ]
  },
  {
   "cell_type": "code",
   "execution_count": 7,
   "id": "df192c25",
   "metadata": {},
   "outputs": [
    {
     "name": "stderr",
     "output_type": "stream",
     "text": [
      "C:\\anaconda3\\lib\\site-packages\\sklearn\\linear_model\\_logistic.py:814: ConvergenceWarning: lbfgs failed to converge (status=1):\n",
      "STOP: TOTAL NO. of ITERATIONS REACHED LIMIT.\n",
      "\n",
      "Increase the number of iterations (max_iter) or scale the data as shown in:\n",
      "    https://scikit-learn.org/stable/modules/preprocessing.html\n",
      "Please also refer to the documentation for alternative solver options:\n",
      "    https://scikit-learn.org/stable/modules/linear_model.html#logistic-regression\n",
      "  n_iter_i = _check_optimize_result(\n"
     ]
    }
   ],
   "source": [
    "mp = model_pipeline.fit(train_df[\"content\"], train_df[\"grade3\"])"
   ]
  },
  {
   "cell_type": "code",
   "execution_count": null,
   "id": "02fed9e3",
   "metadata": {},
   "outputs": [],
   "source": [
    "precision_score(y_true=test_df[\"grade3\"], y_pred=mp.predict(test_df[\"content\"]), average = 'weighted')"
   ]
  },
  {
   "cell_type": "code",
   "execution_count": 8,
   "id": "cf5a33da",
   "metadata": {},
   "outputs": [],
   "source": [
    "def predictor(comment):\n",
    "    return int(model_pipeline.predict([comment])) #returns 1, 2 or 3"
   ]
  },
  {
   "cell_type": "code",
   "execution_count": null,
   "id": "50db2a5a",
   "metadata": {},
   "outputs": [],
   "source": [
    "predictor(\"Нормально\")"
   ]
  },
  {
   "cell_type": "code",
   "execution_count": null,
   "id": "43a83002",
   "metadata": {},
   "outputs": [],
   "source": [
    "predictor(\"Ужасный сюжет и актеры, смотреть невозможно\")"
   ]
  },
  {
   "cell_type": "code",
   "execution_count": null,
   "id": "c891f5eb",
   "metadata": {},
   "outputs": [],
   "source": [
    "predictor(\"Фильм захватывает с первых секунд\")"
   ]
  },
  {
   "cell_type": "code",
   "execution_count": 9,
   "id": "8313b16e",
   "metadata": {},
   "outputs": [],
   "source": [
    "# for saving algorithm and preprocessing objects\n",
    "import dill\n",
    "filename = \"mlmodel.pkl\"\n",
    "# save model\n",
    "dill.dump(mp, open(filename, \"wb\"))"
   ]
  },
  {
   "cell_type": "code",
   "execution_count": null,
   "id": "7c604a8a",
   "metadata": {},
   "outputs": [],
   "source": []
  }
 ],
 "metadata": {
  "kernelspec": {
   "display_name": "Python 3 (ipykernel)",
   "language": "python",
   "name": "python3"
  },
  "language_info": {
   "codemirror_mode": {
    "name": "ipython",
    "version": 3
   },
   "file_extension": ".py",
   "mimetype": "text/x-python",
   "name": "python",
   "nbconvert_exporter": "python",
   "pygments_lexer": "ipython3",
   "version": "3.9.12"
  }
 },
 "nbformat": 4,
 "nbformat_minor": 5
}
